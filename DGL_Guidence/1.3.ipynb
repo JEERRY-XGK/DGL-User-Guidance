{
 "cells": [
  {
   "cell_type": "code",
   "execution_count": null,
   "metadata": {
    "collapsed": true,
    "pycharm": {
     "name": "#%%\n"
    }
   },
   "outputs": [],
   "source": [
    "import dgl,torch"
   ]
  },
  {
   "cell_type": "code",
   "execution_count": null,
   "outputs": [
    {
     "data": {
      "text/plain": "Graph(num_nodes=6, num_edges=4,\n      ndata_schemes={}\n      edata_schemes={})"
     },
     "execution_count": 2,
     "metadata": {},
     "output_type": "execute_result"
    }
   ],
   "source": [
    "edges = (torch.tensor([0,0,1,5]),torch.tensor([1,2,2,0])) # 6 nodes,4 edges\n",
    "g = dgl.graph(edges)\n",
    "g"
   ],
   "metadata": {
    "collapsed": false,
    "pycharm": {
     "name": "#%%\n"
    }
   }
  },
  {
   "cell_type": "code",
   "execution_count": null,
   "outputs": [
    {
     "data": {
      "text/plain": "tensor([[1, 1, 1],\n        [1, 1, 1],\n        [1, 1, 1],\n        [1, 1, 1],\n        [1, 1, 1],\n        [1, 1, 1]], dtype=torch.int32)"
     },
     "execution_count": 3,
     "metadata": {},
     "output_type": "execute_result"
    }
   ],
   "source": [
    "g.ndata['x'] = torch.ones(size = (g.num_nodes(),3),dtype=torch.int32)\n",
    "g.edata['x'] = torch.ones(size=(g.num_edges(),1),dtype=torch.int32)\n",
    "g.ndata['x']"
   ],
   "metadata": {
    "collapsed": false,
    "pycharm": {
     "name": "#%%\n"
    }
   }
  },
  {
   "cell_type": "code",
   "execution_count": null,
   "outputs": [
    {
     "data": {
      "text/plain": "tensor([[1],\n        [1],\n        [1],\n        [1]], dtype=torch.int32)"
     },
     "execution_count": 4,
     "metadata": {},
     "output_type": "execute_result"
    }
   ],
   "source": [
    "g.edata['x']"
   ],
   "metadata": {
    "collapsed": false,
    "pycharm": {
     "name": "#%%\n"
    }
   }
  },
  {
   "cell_type": "code",
   "execution_count": null,
   "outputs": [],
   "source": [
    "g.ndata['y'] = torch.randn(size=(g.num_nodes(), 5))"
   ],
   "metadata": {
    "collapsed": false,
    "pycharm": {
     "name": "#%%\n"
    }
   }
  },
  {
   "cell_type": "code",
   "execution_count": null,
   "outputs": [
    {
     "data": {
      "text/plain": "tensor([[ 0.3956, -0.7023,  0.1575, -0.7020,  0.9881],\n        [ 1.8088,  0.8348,  1.7101, -1.7028,  0.0659],\n        [-0.2208, -0.3977,  2.1991, -1.7100, -0.0972],\n        [-0.5567, -0.3408,  0.1455,  0.3429,  0.0059],\n        [-0.1976,  0.3107, -1.4978, -0.0548, -0.2230],\n        [-1.5707, -0.3092, -1.5827, -0.3628, -0.8597]])"
     },
     "execution_count": 6,
     "metadata": {},
     "output_type": "execute_result"
    }
   ],
   "source": [
    "g.ndata['y']"
   ],
   "metadata": {
    "collapsed": false,
    "pycharm": {
     "name": "#%%\n"
    }
   }
  },
  {
   "cell_type": "code",
   "execution_count": null,
   "outputs": [
    {
     "data": {
      "text/plain": "{'x': tensor([[1, 1, 1],\n        [1, 1, 1],\n        [1, 1, 1],\n        [1, 1, 1],\n        [1, 1, 1],\n        [1, 1, 1]], dtype=torch.int32), 'y': tensor([[ 0.3956, -0.7023,  0.1575, -0.7020,  0.9881],\n        [ 1.8088,  0.8348,  1.7101, -1.7028,  0.0659],\n        [-0.2208, -0.3977,  2.1991, -1.7100, -0.0972],\n        [-0.5567, -0.3408,  0.1455,  0.3429,  0.0059],\n        [-0.1976,  0.3107, -1.4978, -0.0548, -0.2230],\n        [-1.5707, -0.3092, -1.5827, -0.3628, -0.8597]])}"
     },
     "execution_count": 7,
     "metadata": {},
     "output_type": "execute_result"
    }
   ],
   "source": [
    "g.ndata"
   ],
   "metadata": {
    "collapsed": false,
    "pycharm": {
     "name": "#%%\n"
    }
   }
  },
  {
   "cell_type": "code",
   "execution_count": null,
   "outputs": [
    {
     "data": {
      "text/plain": "Graph(num_nodes=6, num_edges=4,\n      ndata_schemes={'x': Scheme(shape=(3,), dtype=torch.int32), 'y': Scheme(shape=(5,), dtype=torch.float32)}\n      edata_schemes={'x': Scheme(shape=(1,), dtype=torch.int32)})"
     },
     "execution_count": 8,
     "metadata": {},
     "output_type": "execute_result"
    }
   ],
   "source": [
    "g"
   ],
   "metadata": {
    "collapsed": false,
    "pycharm": {
     "name": "#%%\n"
    }
   }
  },
  {
   "cell_type": "code",
   "execution_count": 11,
   "outputs": [],
   "source": [
    "weights = torch.tensor([0.1, 0.6, 0.9, 0.7])"
   ],
   "metadata": {
    "collapsed": false,
    "pycharm": {
     "name": "#%%\n"
    }
   }
  },
  {
   "cell_type": "code",
   "execution_count": 12,
   "outputs": [],
   "source": [
    "g.edata['w'] = weights"
   ],
   "metadata": {
    "collapsed": false,
    "pycharm": {
     "name": "#%%\n"
    }
   }
  },
  {
   "cell_type": "code",
   "execution_count": 14,
   "outputs": [
    {
     "data": {
      "text/plain": "Graph(num_nodes=6, num_edges=4,\n      ndata_schemes={'x': Scheme(shape=(3,), dtype=torch.int32), 'y': Scheme(shape=(5,), dtype=torch.float32)}\n      edata_schemes={'x': Scheme(shape=(1,), dtype=torch.int32), 'w': Scheme(shape=(), dtype=torch.float32)})"
     },
     "execution_count": 14,
     "metadata": {},
     "output_type": "execute_result"
    }
   ],
   "source": [
    "g"
   ],
   "metadata": {
    "collapsed": false,
    "pycharm": {
     "name": "#%%\n"
    }
   }
  }
 ],
 "metadata": {
  "kernelspec": {
   "display_name": "Python 3",
   "language": "python",
   "name": "python3"
  },
  "language_info": {
   "codemirror_mode": {
    "name": "ipython",
    "version": 2
   },
   "file_extension": ".py",
   "mimetype": "text/x-python",
   "name": "python",
   "nbconvert_exporter": "python",
   "pygments_lexer": "ipython2",
   "version": "2.7.6"
  }
 },
 "nbformat": 4,
 "nbformat_minor": 0
}